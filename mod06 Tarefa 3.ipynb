{
 "cells": [
  {
   "cell_type": "markdown",
   "metadata": {},
   "source": [
    "# Módulo 6 tarefa 3\n",
    "\n",
    "#### 1) A base 'sinasc_RO_2019.csv' contém dados do sistema de nascidos vivos do DataSUS, cujo dicionário de dados está no arquivo 'Estrutura_SINASC_para_CD.pdf'. Carregue esse arquivo."
   ]
  },
  {
   "cell_type": "code",
   "execution_count": 109,
   "metadata": {},
   "outputs": [],
   "source": [
    "import pandas as pd\n",
    "import seaborn as sns\n",
    "import matplotlib.pyplot as plt\n"
   ]
  },
  {
   "cell_type": "code",
   "execution_count": 110,
   "metadata": {},
   "outputs": [],
   "source": [
    "sinasc = pd.read_csv(\"./sinasc_RO_2019.csv\")\n",
    "df = sinasc[['LOCNASC', 'IDADEMAE', 'ESTCIVMAE', 'ESCMAE', 'QTDFILVIVO', \n",
    " 'GESTACAO', 'GRAVIDEZ', 'CONSULTAS', 'APGAR5','SEXO', 'PESO']]"
   ]
  },
  {
   "cell_type": "code",
   "execution_count": 111,
   "metadata": {},
   "outputs": [
    {
     "data": {
      "text/html": [
       "<div>\n",
       "<style scoped>\n",
       "    .dataframe tbody tr th:only-of-type {\n",
       "        vertical-align: middle;\n",
       "    }\n",
       "\n",
       "    .dataframe tbody tr th {\n",
       "        vertical-align: top;\n",
       "    }\n",
       "\n",
       "    .dataframe thead th {\n",
       "        text-align: right;\n",
       "    }\n",
       "</style>\n",
       "<table border=\"1\" class=\"dataframe\">\n",
       "  <thead>\n",
       "    <tr style=\"text-align: right;\">\n",
       "      <th></th>\n",
       "      <th>LOCNASC</th>\n",
       "      <th>IDADEMAE</th>\n",
       "      <th>ESTCIVMAE</th>\n",
       "      <th>ESCMAE</th>\n",
       "      <th>QTDFILVIVO</th>\n",
       "      <th>GESTACAO</th>\n",
       "      <th>GRAVIDEZ</th>\n",
       "      <th>CONSULTAS</th>\n",
       "      <th>APGAR5</th>\n",
       "      <th>SEXO</th>\n",
       "      <th>PESO</th>\n",
       "    </tr>\n",
       "  </thead>\n",
       "  <tbody>\n",
       "    <tr>\n",
       "      <th>0</th>\n",
       "      <td>1</td>\n",
       "      <td>19</td>\n",
       "      <td>5.0</td>\n",
       "      <td>8 a 11 anos</td>\n",
       "      <td>0.0</td>\n",
       "      <td>37 a 41 semanas</td>\n",
       "      <td>Única</td>\n",
       "      <td>4</td>\n",
       "      <td>10.0</td>\n",
       "      <td>Masculino</td>\n",
       "      <td>3685</td>\n",
       "    </tr>\n",
       "    <tr>\n",
       "      <th>1</th>\n",
       "      <td>1</td>\n",
       "      <td>29</td>\n",
       "      <td>2.0</td>\n",
       "      <td>8 a 11 anos</td>\n",
       "      <td>1.0</td>\n",
       "      <td>37 a 41 semanas</td>\n",
       "      <td>Única</td>\n",
       "      <td>4</td>\n",
       "      <td>9.0</td>\n",
       "      <td>Feminino</td>\n",
       "      <td>3055</td>\n",
       "    </tr>\n",
       "    <tr>\n",
       "      <th>2</th>\n",
       "      <td>1</td>\n",
       "      <td>37</td>\n",
       "      <td>9.0</td>\n",
       "      <td>8 a 11 anos</td>\n",
       "      <td>2.0</td>\n",
       "      <td>37 a 41 semanas</td>\n",
       "      <td>Única</td>\n",
       "      <td>4</td>\n",
       "      <td>10.0</td>\n",
       "      <td>Feminino</td>\n",
       "      <td>3460</td>\n",
       "    </tr>\n",
       "    <tr>\n",
       "      <th>3</th>\n",
       "      <td>1</td>\n",
       "      <td>30</td>\n",
       "      <td>5.0</td>\n",
       "      <td>12 anos ou mais</td>\n",
       "      <td>0.0</td>\n",
       "      <td>37 a 41 semanas</td>\n",
       "      <td>Única</td>\n",
       "      <td>3</td>\n",
       "      <td>10.0</td>\n",
       "      <td>Feminino</td>\n",
       "      <td>2982</td>\n",
       "    </tr>\n",
       "    <tr>\n",
       "      <th>4</th>\n",
       "      <td>1</td>\n",
       "      <td>30</td>\n",
       "      <td>2.0</td>\n",
       "      <td>8 a 11 anos</td>\n",
       "      <td>1.0</td>\n",
       "      <td>37 a 41 semanas</td>\n",
       "      <td>Única</td>\n",
       "      <td>4</td>\n",
       "      <td>10.0</td>\n",
       "      <td>Feminino</td>\n",
       "      <td>3310</td>\n",
       "    </tr>\n",
       "  </tbody>\n",
       "</table>\n",
       "</div>"
      ],
      "text/plain": [
       "   LOCNASC  IDADEMAE  ESTCIVMAE           ESCMAE  QTDFILVIVO         GESTACAO  \\\n",
       "0        1        19        5.0      8 a 11 anos         0.0  37 a 41 semanas   \n",
       "1        1        29        2.0      8 a 11 anos         1.0  37 a 41 semanas   \n",
       "2        1        37        9.0      8 a 11 anos         2.0  37 a 41 semanas   \n",
       "3        1        30        5.0  12 anos ou mais         0.0  37 a 41 semanas   \n",
       "4        1        30        2.0      8 a 11 anos         1.0  37 a 41 semanas   \n",
       "\n",
       "  GRAVIDEZ  CONSULTAS  APGAR5       SEXO  PESO  \n",
       "0    Única          4    10.0  Masculino  3685  \n",
       "1    Única          4     9.0   Feminino  3055  \n",
       "2    Única          4    10.0   Feminino  3460  \n",
       "3    Única          3    10.0   Feminino  2982  \n",
       "4    Única          4    10.0   Feminino  3310  "
      ]
     },
     "execution_count": 111,
     "metadata": {},
     "output_type": "execute_result"
    }
   ],
   "source": [
    "df.head()"
   ]
  },
  {
   "cell_type": "markdown",
   "metadata": {},
   "source": [
    "#### 2) Categorize a variável APGAR5 conforme as seguintes quebras:\n",
    "\n",
    "- 0 a 3: 'asfixia grave'\n",
    "- 4 a 5: 'asfixia moderada'\n",
    "- 6 a 7: 'asfixia leve'\n",
    "- 8 a 10: 'normal'"
   ]
  },
  {
   "cell_type": "code",
   "execution_count": 112,
   "metadata": {},
   "outputs": [],
   "source": [
    "df = df[~df['APGAR5'].isna()]"
   ]
  },
  {
   "cell_type": "code",
   "execution_count": 113,
   "metadata": {},
   "outputs": [],
   "source": [
    "df.loc[df['APGAR5'] <= 3.0, 'NIVEL ASFIXIA'] = 'Asfixia Severa'\n",
    "df.loc[(df['APGAR5'] >=4.0) & (df['APGAR5'] <= 5.0) , 'NIVEL ASFIXIA'] = 'Asfixia Moderada'\n",
    "df.loc[(df['APGAR5'] >=6.0) & (df['APGAR5'] <= 7.0) , 'NIVEL ASFIXIA'] = 'Asfixia Leve'\n",
    "df.loc[df['APGAR5'] >= 8.0, 'NIVEL ASFIXIA'] = 'Normal'"
   ]
  },
  {
   "cell_type": "markdown",
   "metadata": {},
   "source": [
    "#### 3) Monte um gráfico comparando a distribuição de APGAR5 por sexo para cada grupo de tempo de gestação (GESTACAO)."
   ]
  },
  {
   "cell_type": "code",
   "execution_count": 50,
   "metadata": {},
   "outputs": [
    {
     "name": "stdout",
     "output_type": "stream",
     "text": [
      "SEXO    Feminino  Masculino\n",
      "APGAR5                     \n",
      "0.0            9          8\n",
      "1.0           15          9\n",
      "2.0            9          8\n",
      "3.0            7          8\n",
      "4.0           11         12\n",
      "5.0           21         24\n",
      "6.0           35         43\n",
      "7.0          106        135\n",
      "8.0          911       1083\n",
      "9.0         7863       8212\n",
      "10.0        4103       4289\n"
     ]
    },
    {
     "data": {
      "text/plain": [
       "<seaborn.axisgrid.FacetGrid at 0x1bb695c1100>"
      ]
     },
     "execution_count": 50,
     "metadata": {},
     "output_type": "execute_result"
    },
    {
     "data": {
      "image/png": "[encoded data removed]",
      "text/plain": [
       "<Figure size 507.875x360 with 1 Axes>"
      ]
     },
     "metadata": {
      "needs_background": "light"
     },
     "output_type": "display_data"
    }
   ],
   "source": [
    "sns.catplot(x = 'SEXO',\n",
    "            y = 'APGAR5',\n",
    "            hue = 'GESTACAO',\n",
    "            kind = 'bar',\n",
    "            ci = None,\n",
    "            data = df)"
   ]
  },
  {
   "cell_type": "markdown",
   "metadata": {},
   "source": [
    "####  4) Monte uma tabela cruzada com APGAR5 nas colunas e GESTACAO nas linhas"
   ]
  },
  {
   "cell_type": "code",
   "execution_count": 60,
   "metadata": {},
   "outputs": [
    {
     "name": "stdout",
     "output_type": "stream",
     "text": [
      "APGAR5               0.0   1.0   2.0   3.0   4.0   5.0   6.0   7.0   8.0   \\\n",
      "GESTACAO                                                                    \n",
      "22 a 27 semanas         7     0     8     6     1     0     2    10    24   \n",
      "28 a 31 semanas         0     0     2     1     5     7     7    11    61   \n",
      "32 a 36 semanas         2     2     2     2     8    11    17    56   362   \n",
      "37 a 41 semanas         5    20     3     5     7    21    45   151  1417   \n",
      "42 semanas e mais       1     0     0     0     0     1     1     5    44   \n",
      "Menos de 22 semanas     1     0     1     0     0     0     0     1     0   \n",
      "\n",
      "APGAR5                9.0   10.0  \n",
      "GESTACAO                          \n",
      "22 a 27 semanas         19     8  \n",
      "28 a 31 semanas         55    13  \n",
      "32 a 36 semanas       1307   465  \n",
      "37 a 41 semanas      13565  7284  \n",
      "42 semanas e mais      423   223  \n",
      "Menos de 22 semanas      3     1  \n"
     ]
    }
   ],
   "source": [
    "apggst = pd.crosstab(df['GESTACAO'], df['APGAR5'])\n",
    "print(apggst)"
   ]
  },
  {
   "cell_type": "markdown",
   "metadata": {},
   "source": [
    "####  5) Da tabela cruzada do intem anterior, calcule os percentuais de linha. Ou seja, a distribuição da variável APGAR5 para cada classe de GESTACAO dado."
   ]
  },
  {
   "cell_type": "code",
   "execution_count": 68,
   "metadata": {},
   "outputs": [
    {
     "name": "stdout",
     "output_type": "stream",
     "text": [
      "APGAR5                   0.0       1.0       2.0       3.0       4.0   \\\n",
      "GESTACAO                                                                \n",
      "22 a 27 semanas      0.082353  0.000000  0.094118  0.070588  0.011765   \n",
      "28 a 31 semanas      0.000000  0.000000  0.012346  0.006173  0.030864   \n",
      "32 a 36 semanas      0.000895  0.000895  0.000895  0.000895  0.003581   \n",
      "37 a 41 semanas      0.000222  0.000888  0.000133  0.000222  0.000311   \n",
      "42 semanas e mais    0.001433  0.000000  0.000000  0.000000  0.000000   \n",
      "Menos de 22 semanas  0.142857  0.000000  0.142857  0.000000  0.000000   \n",
      "\n",
      "APGAR5                   5.0       6.0       7.0       8.0       9.0   \\\n",
      "GESTACAO                                                                \n",
      "22 a 27 semanas      0.000000  0.023529  0.117647  0.282353  0.223529   \n",
      "28 a 31 semanas      0.043210  0.043210  0.067901  0.376543  0.339506   \n",
      "32 a 36 semanas      0.004924  0.007610  0.025067  0.162041  0.585049   \n",
      "37 a 41 semanas      0.000932  0.001998  0.006704  0.062913  0.602273   \n",
      "42 semanas e mais    0.001433  0.001433  0.007163  0.063037  0.606017   \n",
      "Menos de 22 semanas  0.000000  0.000000  0.142857  0.000000  0.428571   \n",
      "\n",
      "APGAR5                   10.0  \n",
      "GESTACAO                       \n",
      "22 a 27 semanas      0.094118  \n",
      "28 a 31 semanas      0.080247  \n",
      "32 a 36 semanas      0.208147  \n",
      "37 a 41 semanas      0.323403  \n",
      "42 semanas e mais    0.319484  \n",
      "Menos de 22 semanas  0.142857  \n"
     ]
    }
   ],
   "source": [
    "apggst_pctlin = apggst.div(apggst.sum(axis = 1), axis = 0)\n",
    "print(apggst_pctlin)"
   ]
  },
  {
   "cell_type": "markdown",
   "metadata": {},
   "source": [
    "####  6) Os médicos costumam classificar parto prematuro quando a gestação tem menos que 37 semanas. Faça um gráfico de barras da tabela cruzada acima e conclua se você acha que este conjunto de dados corrobora ou não com a afirmação dos médicos."
   ]
  },
  {
   "cell_type": "code",
   "execution_count": 78,
   "metadata": {},
   "outputs": [
    {
     "data": {
      "text/plain": [
       "<AxesSubplot:xlabel='GESTACAO'>"
      ]
     },
     "execution_count": 78,
     "metadata": {},
     "output_type": "execute_result"
    },
    {
     "data": {
      "image/png": "[encoded data removed]",
      "text/plain": [
       "<Figure size 504x504 with 1 Axes>"
      ]
     },
     "metadata": {
      "needs_background": "light"
     },
     "output_type": "display_data"
    }
   ],
   "source": [
    "apggst_pctlin.plot.bar(figsize = (7,7))"
   ]
  },
  {
   "cell_type": "markdown",
   "metadata": {},
   "source": [
    "Após obsevar o gráfico da tabela cruzada é possivel notar que o nível de axfixia esta diretamente ligado ao tempo de gestação, já que após a 36ª semana de gestação a porcentagem de bebês com Apgar5 abaixo do normal se torna muito menor do que as crianças que nasceram prematuras."
   ]
  },
  {
   "cell_type": "markdown",
   "metadata": {},
   "source": [
    "#### 7) Veja se há relação entre APGAR5 e o peso do bebê. Isso pode ser feito de diversas formas. Fique à vontade para escolher a melhor maneira na sua opinião, ou até testar mais de um dos gráficos que vimos. Fique à vontade também para consultar a documentação e utilizar algum outro recurso se achar conveniente."
   ]
  },
  {
   "cell_type": "code",
   "execution_count": 127,
   "metadata": {},
   "outputs": [
    {
     "data": {
      "text/plain": [
       "<AxesSubplot:xlabel='NIVEL ASFIXIA', ylabel='PESO'>"
      ]
     },
     "execution_count": 127,
     "metadata": {},
     "output_type": "execute_result"
    },
    {
     "data": {
      "image/png": "[encoded data removed]",
      "text/plain": [
       "<Figure size 432x288 with 1 Axes>"
      ]
     },
     "metadata": {
      "needs_background": "light"
     },
     "output_type": "display_data"
    }
   ],
   "source": [
    "sns.barplot(x = 'NIVEL ASFIXIA', \n",
    "            y = 'PESO',\n",
    "            ci = None,\n",
    "            order = ('Asfixia Severa','Asfixia Moderada','Asfixia Leve', 'Normal'),\n",
    "            data = df)"
   ]
  },
  {
   "cell_type": "markdown",
   "metadata": {},
   "source": [
    "Podemos notar que o nível de asfixia também está ligado ao peso, a tendência é de que crianças com menos de 3Kg estejam mais propensas a ter asfixia, além disso, conforme o peso diminui pior é o nível de asfixia do bebê."
   ]
  }
 ],
 "metadata": {
  "kernelspec": {
   "display_name": "Python 3 (ipykernel)",
   "language": "python",
   "name": "python3"
  },
  "language_info": {
   "codemirror_mode": {
    "name": "ipython",
    "version": 3
   },
   "file_extension": ".py",
   "mimetype": "text/x-python",
   "name": "python",
   "nbconvert_exporter": "python",
   "pygments_lexer": "ipython3",
   "version": "3.9.12"
  }
 },
 "nbformat": 4,
 "nbformat_minor": 4
}
